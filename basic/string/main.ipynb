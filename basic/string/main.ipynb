{
 "cells": [
  {
   "cell_type": "markdown",
   "metadata": {},
   "source": [
    "## format"
   ]
  },
  {
   "cell_type": "markdown",
   "metadata": {},
   "source": [
    "format根据属性名分配属性值"
   ]
  },
  {
   "cell_type": "code",
   "execution_count": 1,
   "metadata": {},
   "outputs": [
    {
     "data": {
      "text/plain": [
       "(\"Cat的属性['猫尾', '爪子', '猫耳朵']\", \"Cat的属性('猫尾', '爪子', '猫耳朵')\")"
      ]
     },
     "execution_count": 1,
     "metadata": {},
     "output_type": "execute_result"
    }
   ],
   "source": [
    "s = \"{animal}的属性{attrs}\"\n",
    "(s.format(\n",
    "    animal=\"Cat\",\n",
    "    attrs=[\"猫尾\",\"爪子\",\"猫耳朵\"]\n",
    "    ),\n",
    "s.format(\n",
    "    animal=\"Cat\",\n",
    "    attrs=(\"猫尾\",\"爪子\",\"猫耳朵\")\n",
    "    ))"
   ]
  },
  {
   "cell_type": "code",
   "execution_count": null,
   "metadata": {},
   "outputs": [],
   "source": []
  }
 ],
 "metadata": {
  "kernelspec": {
   "display_name": "base",
   "language": "python",
   "name": "python3"
  },
  "language_info": {
   "codemirror_mode": {
    "name": "ipython",
    "version": 3
   },
   "file_extension": ".py",
   "mimetype": "text/x-python",
   "name": "python",
   "nbconvert_exporter": "python",
   "pygments_lexer": "ipython3",
   "version": "3.11.4"
  },
  "orig_nbformat": 4
 },
 "nbformat": 4,
 "nbformat_minor": 2
}
