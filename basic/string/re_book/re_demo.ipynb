{
 "cells": [
  {
   "cell_type": "markdown",
   "metadata": {},
   "source": [
    "给一段文本"
   ]
  },
  {
   "cell_type": "markdown",
   "metadata": {},
   "source": [
    "有很多种不同的格式：\n",
    "* https://fgw.hubei.gov.cn/fbjd/xxgkml/ghjh/jh/202209/t20220901_4288667.shtml\n",
    "\n",
    "    章节主题句和内容在同一段中。\n",
    "\n",
    "    处理：若这段文本中含有句号。则属于这一类处理方式。"
   ]
  },
  {
   "cell_type": "code",
   "execution_count": 2,
   "metadata": {},
   "outputs": [],
   "source": [
    "import re"
   ]
  },
  {
   "cell_type": "code",
   "execution_count": 1,
   "metadata": {},
   "outputs": [],
   "source": [
    "s = \"\"\"\n",
    "一、实施“首贷户”贷款贴息。深入推进中小微企业(含个体工商户)首次贷款拓展专项行动,2022年新增“首贷户”15万户。引导银行降低“首贷户”贷款利率,鼓励金融机构和市县按照“银行减免+政府贴息”的模式对2022年“首贷户”予以支持,省级财政按照各地实际贴息金额的50%给予补助,已享受财政贴息政策的不再享受“首贷户”贴息。(责任单位:省财政厅,人行武汉分行、湖北银保监局,省地方金融监管局,各市、州、县人民政府)\n",
    "\"\"\""
   ]
  },
  {
   "cell_type": "code",
   "execution_count": 3,
   "metadata": {},
   "outputs": [],
   "source": [
    "r1 = \"^[一,二,三,四,五,六,七,八,九,十]+、\""
   ]
  },
  {
   "cell_type": "code",
   "execution_count": 5,
   "metadata": {},
   "outputs": [
    {
     "data": {
      "text/plain": [
       "<re.Match object; span=(0, 2), match='一、'>"
      ]
     },
     "execution_count": 5,
     "metadata": {},
     "output_type": "execute_result"
    }
   ],
   "source": [
    "re.match(r1, s.strip())"
   ]
  },
  {
   "cell_type": "code",
   "execution_count": 8,
   "metadata": {},
   "outputs": [],
   "source": [
    "s = s.strip()"
   ]
  },
  {
   "cell_type": "code",
   "execution_count": 9,
   "metadata": {},
   "outputs": [
    {
     "data": {
      "text/plain": [
       "['一、实施“首贷户”贷款贴息',\n",
       " '深入推进中小微企业(含个体工商户)首次贷款拓展专项行动,2022年新增“首贷户”15万户',\n",
       " '引导银行降低“首贷户”贷款利率,鼓励金融机构和市县按照“银行减免+政府贴息”的模式对2022年“首贷户”予以支持,省级财政按照各地实际贴息金额的50%给予补助,已享受财政贴息政策的不再享受“首贷户”贴息',\n",
       " '(责任单位:省财政厅,人行武汉分行、湖北银保监局,省地方金融监管局,各市、州、县人民政府)']"
      ]
     },
     "execution_count": 9,
     "metadata": {},
     "output_type": "execute_result"
    }
   ],
   "source": [
    "s.split('。')"
   ]
  },
  {
   "cell_type": "markdown",
   "metadata": {},
   "source": [
    "link:\n",
    "\n",
    "https://www.gov.cn/zhengce/zhengceku/2022-05/20/content_5691424.htm"
   ]
  },
  {
   "cell_type": "code",
   "execution_count": null,
   "metadata": {},
   "outputs": [],
   "source": []
  }
 ],
 "metadata": {
  "kernelspec": {
   "display_name": "base",
   "language": "python",
   "name": "python3"
  },
  "language_info": {
   "codemirror_mode": {
    "name": "ipython",
    "version": 3
   },
   "file_extension": ".py",
   "mimetype": "text/x-python",
   "name": "python",
   "nbconvert_exporter": "python",
   "pygments_lexer": "ipython3",
   "version": "3.11.4"
  },
  "orig_nbformat": 4
 },
 "nbformat": 4,
 "nbformat_minor": 2
}
