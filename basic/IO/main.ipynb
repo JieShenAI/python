{
 "cells": [
  {
   "cell_type": "code",
   "execution_count": 39,
   "metadata": {},
   "outputs": [],
   "source": [
    "import datetime\n",
    "\n",
    "# 获得当前日期时间，时分秒\n",
    "def now():\n",
    "    return datetime.datetime.now().strftime('%Y-%m-%d %H:%M:%S')\n",
    "\n",
    "file = \"file.txt\""
   ]
  },
  {
   "cell_type": "code",
   "execution_count": 3,
   "metadata": {},
   "outputs": [
    {
     "name": "stdout",
     "output_type": "stream",
     "text": [
      "\n"
     ]
    }
   ],
   "source": [
    "# 向文本中写入数据\n",
    "with open(file, 'w+') as f:\n",
    "    f.write(\"文本\\n\")\n",
    "\n",
    "# 使用 a+ ，无法从文件中读取到数据\n",
    "with open(file, 'a+') as f:\n",
    "    print(f.read())"
   ]
  },
  {
   "cell_type": "markdown",
   "metadata": {},
   "source": [
    "* 使用with，离开with就会保存\n",
    "* 使用 `f = open()`, 若是在ipynb中必须调用f.close方法\n",
    "* 在 py文件中，程序执行结束会自动调用close方法"
   ]
  },
  {
   "cell_type": "code",
   "execution_count": 37,
   "metadata": {},
   "outputs": [
    {
     "data": {
      "text/plain": [
       "20"
      ]
     },
     "execution_count": 37,
     "metadata": {},
     "output_type": "execute_result"
    }
   ],
   "source": [
    "f = open(file, 'a+')\n",
    "f.write(f\"{now()}\\n\")"
   ]
  },
  {
   "cell_type": "markdown",
   "metadata": {},
   "source": [
    "不运行close方法，发现文件中不会有保存的数据"
   ]
  },
  {
   "cell_type": "code",
   "execution_count": 38,
   "metadata": {},
   "outputs": [],
   "source": [
    "f.close()"
   ]
  },
  {
   "cell_type": "markdown",
   "metadata": {},
   "source": [
    "完整的可运行的python文件"
   ]
  },
  {
   "cell_type": "markdown",
   "metadata": {},
   "source": [
    "如下程序，若遇到异常或程序报错，会自动调用`f.close()`\n",
    "\n",
    "值得之注意到是 若在终端中运行程序，若人工使用`ctrl + z`，结束程序，`f.close()`方法不会被调用。（但在pycharm中，人工主动点击关闭程序，`f.close()`方法又会被调用）"
   ]
  },
  {
   "cell_type": "code",
   "execution_count": null,
   "metadata": {},
   "outputs": [],
   "source": [
    "import datetime\n",
    "import time\n",
    "\n",
    "# 获得当前日期时间，时分秒\n",
    "def now():\n",
    "    return datetime.datetime.now().strftime('%Y-%m-%d %H:%M:%S')\n",
    "\n",
    "file = \"file.txt\"\n",
    "\n",
    "f = open(file, 'a+')\n",
    "f.write(f\"{now()}\\n\")\n",
    "#a = 3 / 0\n",
    "time.sleep(5)\n",
    "f.write(f\"{now()}\\n\")\n"
   ]
  },
  {
   "cell_type": "code",
   "execution_count": null,
   "metadata": {},
   "outputs": [],
   "source": []
  }
 ],
 "metadata": {
  "kernelspec": {
   "display_name": "base",
   "language": "python",
   "name": "python3"
  },
  "language_info": {
   "codemirror_mode": {
    "name": "ipython",
    "version": 3
   },
   "file_extension": ".py",
   "mimetype": "text/x-python",
   "name": "python",
   "nbconvert_exporter": "python",
   "pygments_lexer": "ipython3",
   "version": "3.11.4"
  },
  "orig_nbformat": 4
 },
 "nbformat": 4,
 "nbformat_minor": 2
}
