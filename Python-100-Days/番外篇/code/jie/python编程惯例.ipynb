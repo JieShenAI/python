{
 "cells": [
  {
   "cell_type": "markdown",
   "id": "c0d68753",
   "metadata": {},
   "source": [
    "## bool"
   ]
  },
  {
   "cell_type": "code",
   "execution_count": 1,
   "id": "2426ac2c",
   "metadata": {
    "ExecuteTime": {
     "end_time": "2023-03-13T15:02:48.476880Z",
     "start_time": "2023-03-13T15:02:48.454945Z"
    }
   },
   "outputs": [
    {
     "data": {
      "text/plain": [
       "(False, False, False)"
      ]
     },
     "execution_count": 1,
     "metadata": {},
     "output_type": "execute_result"
    }
   ],
   "source": [
    "se = set()\n",
    "st = \"\"\n",
    "l = []\n",
    "\n",
    "bool(se), bool(st), bool(l)"
   ]
  },
  {
   "cell_type": "markdown",
   "id": "bd2c09d0",
   "metadata": {},
   "source": [
    "## str"
   ]
  },
  {
   "cell_type": "code",
   "execution_count": 5,
   "id": "4b947b91",
   "metadata": {
    "ExecuteTime": {
     "end_time": "2023-03-13T15:04:40.143675Z",
     "start_time": "2023-03-13T15:04:40.130680Z"
    }
   },
   "outputs": [],
   "source": [
    "s = \"绿色漫野的青草地\""
   ]
  },
  {
   "cell_type": "code",
   "execution_count": 4,
   "id": "9747a7ea",
   "metadata": {
    "ExecuteTime": {
     "end_time": "2023-03-13T15:04:12.864584Z",
     "start_time": "2023-03-13T15:04:12.845635Z"
    }
   },
   "outputs": [],
   "source": [
    "str.find?"
   ]
  },
  {
   "cell_type": "code",
   "execution_count": 6,
   "id": "bcbfa25a",
   "metadata": {
    "ExecuteTime": {
     "end_time": "2023-03-13T15:05:14.336607Z",
     "start_time": "2023-03-13T15:05:14.325608Z"
    }
   },
   "outputs": [
    {
     "data": {
      "text/plain": [
       "5"
      ]
     },
     "execution_count": 6,
     "metadata": {},
     "output_type": "execute_result"
    }
   ],
   "source": [
    "s.find('青草')"
   ]
  },
  {
   "cell_type": "markdown",
   "id": "ac0cd054",
   "metadata": {},
   "source": [
    "## 生成式"
   ]
  },
  {
   "cell_type": "code",
   "execution_count": 7,
   "id": "460081c6",
   "metadata": {
    "ExecuteTime": {
     "end_time": "2023-03-13T15:08:52.480893Z",
     "start_time": "2023-03-13T15:08:52.472917Z"
    }
   },
   "outputs": [
    {
     "ename": "SyntaxError",
     "evalue": "invalid syntax (3189411470.py, line 1)",
     "output_type": "error",
     "traceback": [
      "\u001b[1;36m  File \u001b[1;32m\"C:\\Users\\jshen\\AppData\\Local\\Temp\\ipykernel_11412\\3189411470.py\"\u001b[1;36m, line \u001b[1;32m1\u001b[0m\n\u001b[1;33m    even_list = [i for i in range(10) if i%2 else -1]\u001b[0m\n\u001b[1;37m                                             ^\u001b[0m\n\u001b[1;31mSyntaxError\u001b[0m\u001b[1;31m:\u001b[0m invalid syntax\n"
     ]
    }
   ],
   "source": [
    "even_list = [i for i in range(10) if i%2 else -1]\n",
    "even_list"
   ]
  },
  {
   "cell_type": "markdown",
   "id": "f1ef21ed",
   "metadata": {},
   "source": [
    "## 字典"
   ]
  },
  {
   "cell_type": "code",
   "execution_count": 8,
   "id": "be204e86",
   "metadata": {
    "ExecuteTime": {
     "end_time": "2023-03-13T15:10:48.572616Z",
     "start_time": "2023-03-13T15:10:48.560674Z"
    }
   },
   "outputs": [],
   "source": [
    "keys = [i for i in range(5)]\n",
    "values = [i*10 for i in range(5)]\n",
    "\n",
    "d = dict(zip())"
   ]
  }
 ],
 "metadata": {
  "hide_input": false,
  "kernelspec": {
   "display_name": "Python 3 (ipykernel)",
   "language": "python",
   "name": "python3"
  },
  "language_info": {
   "codemirror_mode": {
    "name": "ipython",
    "version": 3
   },
   "file_extension": ".py",
   "mimetype": "text/x-python",
   "name": "python",
   "nbconvert_exporter": "python",
   "pygments_lexer": "ipython3",
   "version": "3.9.15"
  },
  "varInspector": {
   "cols": {
    "lenName": 16,
    "lenType": 16,
    "lenVar": 40
   },
   "kernels_config": {
    "python": {
     "delete_cmd_postfix": "",
     "delete_cmd_prefix": "del ",
     "library": "var_list.py",
     "varRefreshCmd": "print(var_dic_list())"
    },
    "r": {
     "delete_cmd_postfix": ") ",
     "delete_cmd_prefix": "rm(",
     "library": "var_list.r",
     "varRefreshCmd": "cat(var_dic_list()) "
    }
   },
   "types_to_exclude": [
    "module",
    "function",
    "builtin_function_or_method",
    "instance",
    "_Feature"
   ],
   "window_display": false
  }
 },
 "nbformat": 4,
 "nbformat_minor": 5
}
