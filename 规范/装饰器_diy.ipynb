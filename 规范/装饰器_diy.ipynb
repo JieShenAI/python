{
 "cells": [
  {
   "cell_type": "markdown",
   "metadata": {},
   "source": [
    "无参的装饰器"
   ]
  },
  {
   "cell_type": "code",
   "execution_count": 5,
   "metadata": {},
   "outputs": [
    {
     "name": "stdout",
     "output_type": "stream",
     "text": [
      "decorate\n",
      "end "
     ]
    }
   ],
   "source": [
    "def out(f):\n",
    "    def wrapper(*args,**kwargs):\n",
    "        print(\"decorate\")\n",
    "        return f(*args,**kwargs)\n",
    "    return wrapper\n",
    "\n",
    "@out\n",
    "def hi():\n",
    "    print(\"end\",end=\" \")\n",
    "hi()"
   ]
  },
  {
   "cell_type": "markdown",
   "metadata": {},
   "source": [
    "带参装饰器"
   ]
  },
  {
   "cell_type": "code",
   "execution_count": 6,
   "metadata": {},
   "outputs": [
    {
     "name": "stdout",
     "output_type": "stream",
     "text": [
      "bye\n",
      "end "
     ]
    }
   ],
   "source": [
    "def out(v):\n",
    "    def inner(f):\n",
    "        def wrapper(*args,**kwargs):\n",
    "            print(v)\n",
    "            return f(*args,**kwargs)\n",
    "        return wrapper\n",
    "    return inner\n",
    "\n",
    "@out(\"bye\")\n",
    "def hi():\n",
    "    print(\"end\",end=\" \")\n",
    "hi()"
   ]
  },
  {
   "cell_type": "markdown",
   "metadata": {},
   "source": [
    "## 装饰器类 "
   ]
  },
  {
   "cell_type": "markdown",
   "metadata": {},
   "source": [
    "装饰器不带参数"
   ]
  },
  {
   "cell_type": "code",
   "execution_count": 7,
   "metadata": {},
   "outputs": [
    {
     "name": "stdout",
     "output_type": "stream",
     "text": [
      "entry\n"
     ]
    },
    {
     "data": {
      "text/plain": [
       "12"
      ]
     },
     "execution_count": 7,
     "metadata": {},
     "output_type": "execute_result"
    }
   ],
   "source": [
    "class out_class:\n",
    "    def __init__(self,f):\n",
    "        self.func = f\n",
    "    def __call__(self,*args,**kwargs):\n",
    "        print(\"entry\")\n",
    "        return self.func(*args,**kwargs)\n",
    "\n",
    "@out_class\n",
    "def area(w,h):\n",
    "    return w*h\n",
    "\n",
    "area(3,4)"
   ]
  },
  {
   "cell_type": "markdown",
   "metadata": {},
   "source": [
    "装饰器带参数"
   ]
  },
  {
   "cell_type": "code",
   "execution_count": 11,
   "metadata": {},
   "outputs": [
    {
     "name": "stdout",
     "output_type": "stream",
     "text": [
      "entry\n"
     ]
    },
    {
     "data": {
      "text/plain": [
       "12"
      ]
     },
     "execution_count": 11,
     "metadata": {},
     "output_type": "execute_result"
    }
   ],
   "source": [
    "class out_class:\n",
    "    def __init__(self,f):\n",
    "        self.func = f\n",
    "    def __call__(self,f):\n",
    "        def wrapper(*args,**kwargs):\n",
    "            print(\"entry\")\n",
    "            return f(*args,**kwargs)\n",
    "        return wrapper\n",
    "\n",
    "@out_class(\"entry\")\n",
    "def area(w,h):\n",
    "    return w*h\n",
    "area(3,4)"
   ]
  },
  {
   "cell_type": "markdown",
   "metadata": {},
   "source": [
    "## 类装饰器"
   ]
  },
  {
   "cell_type": "markdown",
   "metadata": {},
   "source": [
    "<font color='red'>如何给类修饰器传参，还不会</font>"
   ]
  },
  {
   "cell_type": "code",
   "execution_count": 47,
   "metadata": {},
   "outputs": [
    {
     "name": "stdout",
     "output_type": "stream",
     "text": [
      "decorate <class '__main__.Stu'>\n",
      "{}\n"
     ]
    }
   ],
   "source": [
    "def add_attr(*args,**kwargs):\n",
    "\n",
    "    def wrapper(cls):\n",
    "        print(\"decorate\",cls)\n",
    "        cls.name = kwargs.get(\"name\",\"shen\")\n",
    "        def __str__(self):\n",
    "            return str(self.__dict__)\n",
    "        cls.__str__ = __str__\n",
    "        return cls\n",
    "    return wrapper\n",
    "\n",
    "@add_attr(name=\"jie\")\n",
    "class Stu:\n",
    "    pass\n",
    "    \n",
    "stu = Stu()\n",
    "print(stu)"
   ]
  },
  {
   "cell_type": "code",
   "execution_count": 42,
   "metadata": {},
   "outputs": [
    {
     "name": "stdout",
     "output_type": "stream",
     "text": [
      "{'name': 'jie'}\n"
     ]
    }
   ],
   "source": [
    "def add_attr(cls):\n",
    "    def __str__(self):\n",
    "        return str(self.__dict__)\n",
    "    cls.__str__ = __str__\n",
    "    return cls\n",
    "\n",
    "@add_attr\n",
    "class Stu:\n",
    "    def __init__(self,name):\n",
    "        self.name = name\n",
    "    \n",
    "stu = Stu(\"jie\")\n",
    "print(stu)"
   ]
  },
  {
   "cell_type": "code",
   "execution_count": null,
   "metadata": {},
   "outputs": [],
   "source": []
  }
 ],
 "metadata": {
  "kernelspec": {
   "display_name": "Python 3.9.12 ('base')",
   "language": "python",
   "name": "python3"
  },
  "language_info": {
   "codemirror_mode": {
    "name": "ipython",
    "version": 3
   },
   "file_extension": ".py",
   "mimetype": "text/x-python",
   "name": "python",
   "nbconvert_exporter": "python",
   "pygments_lexer": "ipython3",
   "version": "3.9.12"
  },
  "orig_nbformat": 4,
  "vscode": {
   "interpreter": {
    "hash": "2e1e609ed4275b16681bc4abde79d07778f26b9708257cdaa3e43b60c63d82f8"
   }
  }
 },
 "nbformat": 4,
 "nbformat_minor": 2
}
