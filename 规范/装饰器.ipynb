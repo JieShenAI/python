{
 "cells": [
  {
   "cell_type": "markdown",
   "metadata": {},
   "source": [
    "* <a href=\"#decorator\">decorator</a>\n"
   ]
  },
  {
   "cell_type": "markdown",
   "metadata": {},
   "source": [
    "# descriptor"
   ]
  },
  {
   "cell_type": "code",
   "execution_count": 5,
   "metadata": {},
   "outputs": [],
   "source": [
    "# https://www.bilibili.com/video/BV1pT4y1a7dd/\n",
    "class Name:\n",
    "    def __get__(self,obj,objtype):\n",
    "        return \"Peter\""
   ]
  },
  {
   "cell_type": "code",
   "execution_count": 6,
   "metadata": {},
   "outputs": [
    {
     "data": {
      "text/plain": [
       "'Peter'"
      ]
     },
     "execution_count": 6,
     "metadata": {},
     "output_type": "execute_result"
    }
   ],
   "source": [
    "class A:\n",
    "    name = Name()\n",
    "A.name"
   ]
  },
  {
   "cell_type": "code",
   "execution_count": 2,
   "metadata": {},
   "outputs": [
    {
     "data": {
      "text/plain": [
       "<__main__.Name at 0x22671d5ed30>"
      ]
     },
     "execution_count": 2,
     "metadata": {},
     "output_type": "execute_result"
    }
   ],
   "source": [
    "class A:\n",
    "    def __init__(self):\n",
    "        self.name = Name()\n",
    "\n",
    "a = A()\n",
    "a.name"
   ]
  },
  {
   "cell_type": "code",
   "execution_count": 7,
   "metadata": {},
   "outputs": [
    {
     "name": "stdout",
     "output_type": "stream",
     "text": [
      "Peter\n"
     ]
    },
    {
     "data": {
      "text/plain": [
       "'Bob'"
      ]
     },
     "execution_count": 7,
     "metadata": {},
     "output_type": "execute_result"
    }
   ],
   "source": [
    "class A:\n",
    "    name = Name()\n",
    "b = A()\n",
    "print(b.name)\n",
    "b.name = \"Bob\"\n",
    "b.name"
   ]
  },
  {
   "cell_type": "code",
   "execution_count": 8,
   "metadata": {},
   "outputs": [
    {
     "data": {
      "text/plain": [
       "'Peter'"
      ]
     },
     "execution_count": 8,
     "metadata": {},
     "output_type": "execute_result"
    }
   ],
   "source": [
    "class A:\n",
    "    name = Name()\n",
    "\n",
    "c = A()\n",
    "c.name = \"Bob\"\n",
    "Name.__set__ = lambda x,y,z:None\n",
    "c.name"
   ]
  },
  {
   "cell_type": "markdown",
   "metadata": {},
   "source": [
    "## decorator"
   ]
  },
  {
   "cell_type": "markdown",
   "metadata": {},
   "source": [
    "https://www.bilibili.com/video/BV1Gu411Q7JV/"
   ]
  },
  {
   "cell_type": "code",
   "execution_count": 1,
   "metadata": {},
   "outputs": [],
   "source": [
    "def dec(f):\n",
    "    pass\n",
    "\n",
    "@dec\n",
    "def double(x):\n",
    "    return x*2"
   ]
  },
  {
   "cell_type": "markdown",
   "metadata": {},
   "source": [
    "上面使用@dec装饰器的写法，完全等价于把 `double`函数作为参数传给装饰器 `dec`"
   ]
  },
  {
   "cell_type": "code",
   "execution_count": 2,
   "metadata": {},
   "outputs": [],
   "source": [
    "dec(double)"
   ]
  },
  {
   "cell_type": "markdown",
   "metadata": {},
   "source": [
    "装饰器，返回值一个内部函数"
   ]
  },
  {
   "cell_type": "markdown",
   "metadata": {},
   "source": [
    "### 无参数装饰器"
   ]
  },
  {
   "cell_type": "markdown",
   "metadata": {},
   "source": [
    "计时装饰器的例子"
   ]
  },
  {
   "cell_type": "code",
   "execution_count": 4,
   "metadata": {},
   "outputs": [
    {
     "name": "stdout",
     "output_type": "stream",
     "text": [
      "1.007911205291748\n"
     ]
    }
   ],
   "source": [
    "import time\n",
    "\n",
    "def timeit(f):\n",
    "\n",
    "    def wrapper(x):\n",
    "        start = time.time()\n",
    "        ret = f(x)\n",
    "        print(time.time()-start)\n",
    "        return ret\n",
    "    return wrapper\n",
    "\n",
    "@timeit\n",
    "def my_func(x):\n",
    "    time.sleep(x)\n",
    "\n",
    "my_func(1)"
   ]
  },
  {
   "cell_type": "markdown",
   "metadata": {},
   "source": [
    "timeit装饰器的wrapper函数只有一个参数，只能修饰只有一个参数的函数;\n",
    "\n",
    "wrapper(*args,**kwargs)，可以修饰任意参数形式的函数"
   ]
  },
  {
   "cell_type": "code",
   "execution_count": null,
   "metadata": {},
   "outputs": [],
   "source": [
    "def timeit(f):\n",
    "\n",
    "    def wrapper(*args,**kwargs):\n",
    "        start = time.time()\n",
    "        ret = f(*args,**kwargs)\n",
    "        print(time.time()-start)\n",
    "        return ret\n",
    "    return wrapper"
   ]
  },
  {
   "cell_type": "markdown",
   "metadata": {},
   "source": [
    "### 带参数的装饰器"
   ]
  },
  {
   "cell_type": "code",
   "execution_count": 6,
   "metadata": {},
   "outputs": [
    {
     "name": "stdout",
     "output_type": "stream",
     "text": [
      "0.0009870529174804688\n"
     ]
    },
    {
     "data": {
      "text/plain": [
       "6"
      ]
     },
     "execution_count": 6,
     "metadata": {},
     "output_type": "execute_result"
    }
   ],
   "source": [
    "import time\n",
    "\n",
    "def timeit(iteration):\n",
    "\n",
    "    def inner(f):\n",
    "\n",
    "        def wrapper(*args,**kwargs):\n",
    "            start = time.time()\n",
    "            for _ in range(iteration):\n",
    "                ret = f(*args,**kwargs)\n",
    "            print(time.time() - start)\n",
    "            return ret\n",
    "        return wrapper\n",
    "    return inner\n",
    "\n",
    "\n",
    "@timeit(1000)\n",
    "def double(x):\n",
    "    return x*2\n",
    "\n",
    "double(3)"
   ]
  },
  {
   "cell_type": "markdown",
   "metadata": {},
   "source": [
    "1000 传给了iteration，3 传给wrapper"
   ]
  },
  {
   "cell_type": "markdown",
   "metadata": {},
   "source": [
    "## 装饰器类"
   ]
  },
  {
   "cell_type": "markdown",
   "metadata": {},
   "source": [
    "装饰器本身既可以是函数也可以是类，装饰的对象同样也既可以是函数也可以是类"
   ]
  },
  {
   "cell_type": "code",
   "execution_count": 8,
   "metadata": {},
   "outputs": [],
   "source": [
    "class Timer:\n",
    "    def __init__(self,func):\n",
    "        self.func = func\n",
    "    \n",
    "    def __call__(self,*args,**kwargs):\n",
    "        start = time.time()\n",
    "        ret = self.func(*args,**kwargs)\n",
    "        print(f\"Time: {time.time() - start}\")\n",
    "        return ret\n",
    "\n",
    "@Timer\n",
    "def add(a,b):\n",
    "    return a+b\n"
   ]
  },
  {
   "cell_type": "markdown",
   "metadata": {},
   "source": [
    "等价于, add = Timer(add)\n",
    "\n",
    "在__init__()中，self.func = add;\n",
    "\n",
    "add(2,3)，相当于调用__call__函数"
   ]
  },
  {
   "cell_type": "code",
   "execution_count": 9,
   "metadata": {},
   "outputs": [
    {
     "name": "stdout",
     "output_type": "stream",
     "text": [
      "Time: 0.0\n"
     ]
    },
    {
     "data": {
      "text/plain": [
       "(5, __main__.Timer)"
      ]
     },
     "execution_count": 9,
     "metadata": {},
     "output_type": "execute_result"
    }
   ],
   "source": [
    "add(2,3),type(add)"
   ]
  },
  {
   "cell_type": "markdown",
   "metadata": {},
   "source": [
    "带参数的装饰器类"
   ]
  },
  {
   "cell_type": "code",
   "execution_count": 10,
   "metadata": {},
   "outputs": [
    {
     "name": "stdout",
     "output_type": "stream",
     "text": [
      "curr_time: 0.0\n"
     ]
    },
    {
     "data": {
      "text/plain": [
       "5"
      ]
     },
     "execution_count": 10,
     "metadata": {},
     "output_type": "execute_result"
    }
   ],
   "source": [
    "class Timer:\n",
    "    def __init__(self,prefix):\n",
    "        self.prefix = prefix\n",
    "    \n",
    "    def __call__(self,func):\n",
    "        def wrapper(*args,**kwargs):\n",
    "            start = time.time()\n",
    "            ret = func(*args,**kwargs)\n",
    "            print(f\"{self.prefix}{time.time() - start}\")\n",
    "            return ret\n",
    "        return wrapper\n",
    "    \n",
    "@Timer(prefix=\"curr_time: \")\n",
    "def add(a,b):\n",
    "    return a+b\n",
    "\n",
    "add(2,3)"
   ]
  },
  {
   "cell_type": "markdown",
   "metadata": {},
   "source": [
    "## 类的装饰器"
   ]
  },
  {
   "cell_type": "code",
   "execution_count": 12,
   "metadata": {},
   "outputs": [
    {
     "data": {
      "text/plain": [
       "<__main__.MyObject at 0x19ef24cf640>"
      ]
     },
     "execution_count": 12,
     "metadata": {},
     "output_type": "execute_result"
    }
   ],
   "source": [
    "def add_str(cls):\n",
    "    def __str__(self):\n",
    "        return str(self.__dict__)\n",
    "    cls.__str__ = __str__\n",
    "    return cls\n",
    "\n",
    "@add_str\n",
    "class MyObject:\n",
    "    def __init__(self,a,b):\n",
    "        self.a = a\n",
    "        self.b = b\n",
    "\n",
    "MyObject(1,2)"
   ]
  },
  {
   "cell_type": "markdown",
   "metadata": {},
   "source": [
    "等价于: \n",
    "```\n",
    "MyObject = add_str(MyObject)\n",
    "MyObject(1,2)\n",
    "```"
   ]
  }
 ],
 "metadata": {
  "kernelspec": {
   "display_name": "Python 3.9.12 ('base')",
   "language": "python",
   "name": "python3"
  },
  "language_info": {
   "codemirror_mode": {
    "name": "ipython",
    "version": 3
   },
   "file_extension": ".py",
   "mimetype": "text/x-python",
   "name": "python",
   "nbconvert_exporter": "python",
   "pygments_lexer": "ipython3",
   "version": "3.9.12"
  },
  "orig_nbformat": 4,
  "vscode": {
   "interpreter": {
    "hash": "2e1e609ed4275b16681bc4abde79d07778f26b9708257cdaa3e43b60c63d82f8"
   }
  }
 },
 "nbformat": 4,
 "nbformat_minor": 2
}
